{
 "cells": [
  {
   "cell_type": "code",
   "execution_count": 1,
   "metadata": {},
   "outputs": [],
   "source": [
    "import pyarrow.parquet as pq"
   ]
  },
  {
   "cell_type": "code",
   "execution_count": 3,
   "metadata": {},
   "outputs": [
    {
     "data": {
      "text/plain": [
       "year: int64\n",
       "PM2.5: double\n",
       "zcta: string\n",
       "-- schema metadata --\n",
       "pandas: '{\"index_columns\": [\"zcta\"], \"column_indexes\": [{\"name\": null, \"f' + 524"
      ]
     },
     "execution_count": 3,
     "metadata": {},
     "output_type": "execute_result"
    }
   ],
   "source": [
    "pq.read_schema(\"data/output/ushap_raster2polygon/yearly/zcta/ushap_2002.parquet\")"
   ]
  },
  {
   "cell_type": "code",
   "execution_count": 4,
   "metadata": {},
   "outputs": [
    {
     "data": {
      "text/plain": [
       "year: int64\n",
       "month: int64\n",
       "PM2.5: double\n",
       "zcta: string\n",
       "-- schema metadata --\n",
       "pandas: '{\"index_columns\": [\"zcta\"], \"column_indexes\": [{\"name\": null, \"f' + 631"
      ]
     },
     "execution_count": 4,
     "metadata": {},
     "output_type": "execute_result"
    }
   ],
   "source": [
    "pq.read_schema(\"data/output/ushap_raster2polygon/monthly/zcta/ushap_2002.parquet\")"
   ]
  }
 ],
 "metadata": {
  "kernelspec": {
   "display_name": "ushap_raster2polygon",
   "language": "python",
   "name": "python3"
  },
  "language_info": {
   "codemirror_mode": {
    "name": "ipython",
    "version": 3
   },
   "file_extension": ".py",
   "mimetype": "text/x-python",
   "name": "python",
   "nbconvert_exporter": "python",
   "pygments_lexer": "ipython3",
   "version": "3.11.9"
  }
 },
 "nbformat": 4,
 "nbformat_minor": 2
}
